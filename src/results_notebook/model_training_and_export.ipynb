{
 "cells": [
  {
   "cell_type": "markdown",
   "id": "8a1c03e5",
   "metadata": {},
   "source": [
    "Paso 1: Entendiendo el problema"
   ]
  },
  {
   "cell_type": "markdown",
   "id": "b6d49011",
   "metadata": {},
   "source": [
    "\n",
    "Nuestro objetivo es predecir si un estudiante obtendrá un rendimiento alto (nota final ≥ 14),\n",
    "a partir de sus características personales, sociales y académicas. Esto puede ayudar a identificar\n",
    "perfiles con riesgo de bajo rendimiento y enfocar los recursos educativos.\n",
    "\n",
    "El enfoque será de clasificación binaria, usando técnicas de Machine Learning tradicional.\n"
   ]
  },
  {
   "cell_type": "markdown",
   "id": "07b1e3fb",
   "metadata": {},
   "source": [
    "Paso 2: Carga del dataset de muestra"
   ]
  },
  {
   "cell_type": "code",
   "execution_count": 16,
   "id": "ef2e3836",
   "metadata": {},
   "outputs": [
    {
     "name": "stdout",
     "output_type": "stream",
     "text": [
      "Columna de nota final detectada: G3_mat\n",
      "Preprocesamiento completado. Dataset listo para entrenamiento.\n"
     ]
    }
   ],
   "source": [
    "import pandas as pd\n",
    "\n",
    "# Cargar el dataset (ajusta el path si es necesario)\n",
    "df = pd.read_csv(\"../data_sample/student-merged-sample.csv\")\n",
    "\n",
    "# Buscar la columna G3 (nota final)\n",
    "g3_column = None\n",
    "for col in df.columns:\n",
    "    if col.startswith(\"G3\"):\n",
    "        g3_column = col\n",
    "        break\n",
    "\n",
    "if g3_column:\n",
    "    print(f\"Columna de nota final detectada: {g3_column}\")\n",
    "    \n",
    "    # Crear variable objetivo binaria (nota ≥ 14 se considera alto rendimiento)\n",
    "    df['high_performance'] = df[g3_column].apply(lambda x: 1 if x >= 14 else 0)\n",
    "\n",
    "    # Eliminar las columnas G1, G2, G3 relacionadas (si existen)\n",
    "    cols_to_drop = [col for col in df.columns if col.startswith(\"G\") and col[1:].isdigit()]\n",
    "    df = df.drop(columns=cols_to_drop, errors='ignore')\n",
    "\n",
    "    # Codificar variables categóricas\n",
    "    df_encoded = pd.get_dummies(df, drop_first=True)\n",
    "\n",
    "    # Separar en X (features) e y (target)\n",
    "    X = df_encoded.drop(\"high_performance\", axis=1)\n",
    "    y = df_encoded[\"high_performance\"]\n",
    "\n",
    "    print(\"Preprocesamiento completado. Dataset listo para entrenamiento.\")\n",
    "else:\n",
    "    print(\"No se encontró una columna de nota final (G3).\")\n"
   ]
  },
  {
   "cell_type": "code",
   "execution_count": 12,
   "id": "810faeac",
   "metadata": {},
   "outputs": [
    {
     "name": "stdout",
     "output_type": "stream",
     "text": [
      "['school', 'sex', 'age', 'address', 'famsize', 'Pstatus', 'Medu', 'Fedu', 'Mjob', 'Fjob', 'reason', 'guardian_mat', 'traveltime_mat', 'studytime_mat', 'failures_mat', 'schoolsup_mat', 'famsup_mat', 'paid_mat', 'activities_mat', 'nursery', 'higher_mat', 'internet', 'romantic_mat', 'famrel_mat', 'freetime_mat', 'goout_mat', 'Dalc_mat', 'Walc_mat', 'health_mat', 'absences_mat', 'guardian_por', 'traveltime_por', 'studytime_por', 'failures_por', 'schoolsup_por', 'famsup_por', 'paid_por', 'activities_por', 'higher_por', 'romantic_por', 'famrel_por', 'freetime_por', 'goout_por', 'Dalc_por', 'Walc_por', 'health_por', 'absences_por', 'high_performance']\n"
     ]
    }
   ],
   "source": [
    "print(df.columns.tolist())"
   ]
  },
  {
   "cell_type": "code",
   "execution_count": 14,
   "id": "f8c5fa25",
   "metadata": {},
   "outputs": [
    {
     "name": "stdout",
     "output_type": "stream",
     "text": [
      "['school;sex;age;address;famsize;Pstatus;Medu;Fedu;Mjob;Fjob;reason;guardian;traveltime;studytime;failures;schoolsup;famsup;paid;activities;nursery;higher;internet;romantic;famrel;freetime;goout;Dalc;Walc;health;absences;G1;G2;G3']\n"
     ]
    }
   ],
   "source": [
    "df = pd.read_csv(\"../data_sample/student-por.csv\")  # O cambia el path si usas otro CSV\n",
    "print(df.columns.tolist())"
   ]
  },
  {
   "cell_type": "markdown",
   "id": "7cf3ecd7",
   "metadata": {},
   "source": [
    "Paso 3: Preprocesado"
   ]
  },
  {
   "cell_type": "code",
   "execution_count": 10,
   "id": "87b9b7aa",
   "metadata": {},
   "outputs": [
    {
     "name": "stdout",
     "output_type": "stream",
     "text": [
      "Error: La columna 'G3_por' no existe en el dataframe.\n"
     ]
    }
   ],
   "source": [
    "# Verificamos si la columna 'G3_por' existe\n",
    "if 'G3_por' in df.columns:\n",
    "\t# Creamos variable objetivo binaria\n",
    "\tdf['high_performance'] = df['G3_por'].apply(lambda x: 1 if x >= 14 else 0)\n",
    "\n",
    "\t# Eliminamos variables irrelevantes\n",
    "\tdf = df.drop(['G1_por', 'G2_por', 'G3_por'], axis=1)\n",
    "\n",
    "\t# Convertimos categóricas a dummies\n",
    "\tdf_encoded = pd.get_dummies(df, drop_first=True)\n",
    "\n",
    "\t# División en features y target\n",
    "\tX = df_encoded.drop('high_performance', axis=1)\n",
    "\ty = df_encoded['high_performance']\n",
    "else:\n",
    "\tprint(\"Error: La columna 'G3_por' no existe en el dataframe.\")"
   ]
  },
  {
   "cell_type": "markdown",
   "id": "55d49a7f",
   "metadata": {},
   "source": [
    "🔹 Entrenamiento y Evaluación de Modelos"
   ]
  },
  {
   "cell_type": "code",
   "execution_count": 17,
   "id": "d346ecd8",
   "metadata": {},
   "outputs": [
    {
     "name": "stdout",
     "output_type": "stream",
     "text": [
      "\n",
      "🔸 Entrenando modelo: Regresión Logística\n",
      "✅ Accuracy: 0.950\n",
      "✅ F1 Score: 0.889\n",
      "📊 Matriz de Confusión:\n",
      "[[15  0]\n",
      " [ 1  4]]\n",
      "\n",
      "🔸 Entrenando modelo: Random Forest\n",
      "✅ Accuracy: 0.950\n",
      "✅ F1 Score: 0.889\n",
      "📊 Matriz de Confusión:\n",
      "[[15  0]\n",
      " [ 1  4]]\n",
      "\n",
      "🔸 Entrenando modelo: SVM\n",
      "✅ Accuracy: 0.950\n",
      "✅ F1 Score: 0.889\n",
      "📊 Matriz de Confusión:\n",
      "[[15  0]\n",
      " [ 1  4]]\n"
     ]
    }
   ],
   "source": [
    "from sklearn.model_selection import train_test_split\n",
    "from sklearn.linear_model import LogisticRegression\n",
    "from sklearn.ensemble import RandomForestClassifier\n",
    "from sklearn.svm import SVC\n",
    "from sklearn.metrics import accuracy_score, f1_score, confusion_matrix\n",
    "\n",
    "# Dividir los datos\n",
    "X_train, X_test, y_train, y_test = train_test_split(X, y, test_size=0.2, random_state=42, stratify=y)\n",
    "\n",
    "# Definir los modelos\n",
    "modelos = {\n",
    "    \"Regresión Logística\": LogisticRegression(max_iter=1000),\n",
    "    \"Random Forest\": RandomForestClassifier(n_estimators=100),\n",
    "    \"SVM\": SVC()\n",
    "}\n",
    "\n",
    "# Entrenar y evaluar\n",
    "resultados = {}\n",
    "\n",
    "for nombre, modelo in modelos.items():\n",
    "    print(f\"\\n🔸 Entrenando modelo: {nombre}\")\n",
    "    modelo.fit(X_train, y_train)\n",
    "    y_pred = modelo.predict(X_test)\n",
    "\n",
    "    acc = accuracy_score(y_test, y_pred)\n",
    "    f1 = f1_score(y_test, y_pred)\n",
    "    cm = confusion_matrix(y_test, y_pred)\n",
    "\n",
    "    resultados[nombre] = {\"Accuracy\": acc, \"F1-score\": f1}\n",
    "\n",
    "    print(f\"✅ Accuracy: {acc:.3f}\")\n",
    "    print(f\"✅ F1 Score: {f1:.3f}\")\n",
    "    print(\"📊 Matriz de Confusión:\")\n",
    "    print(cm)\n"
   ]
  }
 ],
 "metadata": {
  "kernelspec": {
   "display_name": "Python 3",
   "language": "python",
   "name": "python3"
  },
  "language_info": {
   "codemirror_mode": {
    "name": "ipython",
    "version": 3
   },
   "file_extension": ".py",
   "mimetype": "text/x-python",
   "name": "python",
   "nbconvert_exporter": "python",
   "pygments_lexer": "ipython3",
   "version": "3.12.7"
  }
 },
 "nbformat": 4,
 "nbformat_minor": 5
}
