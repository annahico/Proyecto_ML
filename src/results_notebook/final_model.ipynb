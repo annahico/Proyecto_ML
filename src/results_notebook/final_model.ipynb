{
 "cells": [
  {
   "cell_type": "markdown",
   "id": "e0b831c7",
   "metadata": {},
   "source": [
    "# ✅  1. Importación de librerías"
   ]
  },
  {
   "cell_type": "code",
   "execution_count": 1,
   "id": "3acca8a9",
   "metadata": {},
   "outputs": [],
   "source": [
    "import pandas as pd\n",
    "import numpy as np\n",
    "from sklearn.model_selection import train_test_split\n",
    "from sklearn.linear_model import LogisticRegression\n",
    "from sklearn.ensemble import RandomForestClassifier\n",
    "from sklearn.svm import SVC\n",
    "from sklearn.metrics import accuracy_score, f1_score, confusion_matrix\n",
    "import pickle"
   ]
  },
  {
   "cell_type": "markdown",
   "id": "e88e3250",
   "metadata": {},
   "source": [
    "# ✅ Paso 2: Carga del dataset"
   ]
  },
  {
   "cell_type": "code",
   "execution_count": 2,
   "id": "866717e7",
   "metadata": {},
   "outputs": [
    {
     "name": "stdout",
     "output_type": "stream",
     "text": [
      "Shape: (100, 53)\n"
     ]
    },
    {
     "data": {
      "text/html": [
       "<div>\n",
       "<style scoped>\n",
       "    .dataframe tbody tr th:only-of-type {\n",
       "        vertical-align: middle;\n",
       "    }\n",
       "\n",
       "    .dataframe tbody tr th {\n",
       "        vertical-align: top;\n",
       "    }\n",
       "\n",
       "    .dataframe thead th {\n",
       "        text-align: right;\n",
       "    }\n",
       "</style>\n",
       "<table border=\"1\" class=\"dataframe\">\n",
       "  <thead>\n",
       "    <tr style=\"text-align: right;\">\n",
       "      <th></th>\n",
       "      <th>school</th>\n",
       "      <th>sex</th>\n",
       "      <th>age</th>\n",
       "      <th>address</th>\n",
       "      <th>famsize</th>\n",
       "      <th>Pstatus</th>\n",
       "      <th>Medu</th>\n",
       "      <th>Fedu</th>\n",
       "      <th>Mjob</th>\n",
       "      <th>Fjob</th>\n",
       "      <th>...</th>\n",
       "      <th>famrel_por</th>\n",
       "      <th>freetime_por</th>\n",
       "      <th>goout_por</th>\n",
       "      <th>Dalc_por</th>\n",
       "      <th>Walc_por</th>\n",
       "      <th>health_por</th>\n",
       "      <th>absences_por</th>\n",
       "      <th>G1_por</th>\n",
       "      <th>G2_por</th>\n",
       "      <th>G3_por</th>\n",
       "    </tr>\n",
       "  </thead>\n",
       "  <tbody>\n",
       "    <tr>\n",
       "      <th>0</th>\n",
       "      <td>GP</td>\n",
       "      <td>M</td>\n",
       "      <td>18</td>\n",
       "      <td>U</td>\n",
       "      <td>GT3</td>\n",
       "      <td>T</td>\n",
       "      <td>4</td>\n",
       "      <td>4</td>\n",
       "      <td>teacher</td>\n",
       "      <td>services</td>\n",
       "      <td>...</td>\n",
       "      <td>4</td>\n",
       "      <td>3</td>\n",
       "      <td>3</td>\n",
       "      <td>2</td>\n",
       "      <td>2</td>\n",
       "      <td>2</td>\n",
       "      <td>0</td>\n",
       "      <td>12</td>\n",
       "      <td>12</td>\n",
       "      <td>13</td>\n",
       "    </tr>\n",
       "    <tr>\n",
       "      <th>1</th>\n",
       "      <td>GP</td>\n",
       "      <td>M</td>\n",
       "      <td>17</td>\n",
       "      <td>U</td>\n",
       "      <td>GT3</td>\n",
       "      <td>T</td>\n",
       "      <td>2</td>\n",
       "      <td>3</td>\n",
       "      <td>other</td>\n",
       "      <td>other</td>\n",
       "      <td>...</td>\n",
       "      <td>5</td>\n",
       "      <td>2</td>\n",
       "      <td>2</td>\n",
       "      <td>1</td>\n",
       "      <td>1</td>\n",
       "      <td>2</td>\n",
       "      <td>2</td>\n",
       "      <td>9</td>\n",
       "      <td>12</td>\n",
       "      <td>13</td>\n",
       "    </tr>\n",
       "    <tr>\n",
       "      <th>2</th>\n",
       "      <td>GP</td>\n",
       "      <td>M</td>\n",
       "      <td>18</td>\n",
       "      <td>U</td>\n",
       "      <td>LE3</td>\n",
       "      <td>T</td>\n",
       "      <td>3</td>\n",
       "      <td>3</td>\n",
       "      <td>services</td>\n",
       "      <td>health</td>\n",
       "      <td>...</td>\n",
       "      <td>3</td>\n",
       "      <td>2</td>\n",
       "      <td>4</td>\n",
       "      <td>2</td>\n",
       "      <td>4</td>\n",
       "      <td>4</td>\n",
       "      <td>10</td>\n",
       "      <td>10</td>\n",
       "      <td>10</td>\n",
       "      <td>10</td>\n",
       "    </tr>\n",
       "    <tr>\n",
       "      <th>3</th>\n",
       "      <td>GP</td>\n",
       "      <td>F</td>\n",
       "      <td>18</td>\n",
       "      <td>U</td>\n",
       "      <td>LE3</td>\n",
       "      <td>T</td>\n",
       "      <td>2</td>\n",
       "      <td>2</td>\n",
       "      <td>other</td>\n",
       "      <td>other</td>\n",
       "      <td>...</td>\n",
       "      <td>4</td>\n",
       "      <td>3</td>\n",
       "      <td>3</td>\n",
       "      <td>1</td>\n",
       "      <td>1</td>\n",
       "      <td>2</td>\n",
       "      <td>0</td>\n",
       "      <td>10</td>\n",
       "      <td>9</td>\n",
       "      <td>12</td>\n",
       "    </tr>\n",
       "    <tr>\n",
       "      <th>4</th>\n",
       "      <td>GP</td>\n",
       "      <td>F</td>\n",
       "      <td>15</td>\n",
       "      <td>U</td>\n",
       "      <td>GT3</td>\n",
       "      <td>A</td>\n",
       "      <td>4</td>\n",
       "      <td>3</td>\n",
       "      <td>services</td>\n",
       "      <td>services</td>\n",
       "      <td>...</td>\n",
       "      <td>4</td>\n",
       "      <td>3</td>\n",
       "      <td>2</td>\n",
       "      <td>1</td>\n",
       "      <td>1</td>\n",
       "      <td>1</td>\n",
       "      <td>0</td>\n",
       "      <td>15</td>\n",
       "      <td>14</td>\n",
       "      <td>15</td>\n",
       "    </tr>\n",
       "  </tbody>\n",
       "</table>\n",
       "<p>5 rows × 53 columns</p>\n",
       "</div>"
      ],
      "text/plain": [
       "  school sex  age address famsize Pstatus  Medu  Fedu      Mjob      Fjob  \\\n",
       "0     GP   M   18       U     GT3       T     4     4   teacher  services   \n",
       "1     GP   M   17       U     GT3       T     2     3     other     other   \n",
       "2     GP   M   18       U     LE3       T     3     3  services    health   \n",
       "3     GP   F   18       U     LE3       T     2     2     other     other   \n",
       "4     GP   F   15       U     GT3       A     4     3  services  services   \n",
       "\n",
       "   ... famrel_por freetime_por  goout_por  Dalc_por  Walc_por health_por  \\\n",
       "0  ...          4            3          3         2         2          2   \n",
       "1  ...          5            2          2         1         1          2   \n",
       "2  ...          3            2          4         2         4          4   \n",
       "3  ...          4            3          3         1         1          2   \n",
       "4  ...          4            3          2         1         1          1   \n",
       "\n",
       "  absences_por G1_por G2_por G3_por  \n",
       "0            0     12     12     13  \n",
       "1            2      9     12     13  \n",
       "2           10     10     10     10  \n",
       "3            0     10      9     12  \n",
       "4            0     15     14     15  \n",
       "\n",
       "[5 rows x 53 columns]"
      ]
     },
     "execution_count": 2,
     "metadata": {},
     "output_type": "execute_result"
    }
   ],
   "source": [
    "# Cargamos la muestra generada anteriormente\n",
    "data = pd.read_csv(\"../data_sample/student-merged-sample.csv\")\n",
    "print(\"Shape:\", data.shape)\n",
    "data.head()"
   ]
  },
  {
   "cell_type": "markdown",
   "id": "8281cb07",
   "metadata": {},
   "source": [
    "# ✅ 3. Preprocesamiento"
   ]
  },
  {
   "cell_type": "code",
   "execution_count": 7,
   "id": "40fa97f7",
   "metadata": {},
   "outputs": [],
   "source": [
    "# Asegurarse de que 'df' esté definido\n",
    "df = data.copy()\n",
    "\n",
    "# Selección de la columna de nota final\n",
    "if 'G3_por' in df.columns:\n",
    "    final_grade_col = 'G3_por'\n",
    "elif 'G3_mat' in df.columns:\n",
    "    final_grade_col = 'G3_mat'\n",
    "else:\n",
    "    raise ValueError(\"No se encontró columna de nota final (G3_por o G3_mat)\")\n",
    "\n"
   ]
  },
  {
   "cell_type": "code",
   "execution_count": 11,
   "id": "50c7e5e9",
   "metadata": {},
   "outputs": [
    {
     "name": "stdout",
     "output_type": "stream",
     "text": [
      "Columna de nota final detectada: G3_por\n"
     ]
    }
   ],
   "source": [
    "# Crear variable objetivo binaria\n",
    "threshold = 14\n",
    "print(f\"Columna de nota final detectada: {final_grade_col}\")\n",
    "\n",
    "# Asegurarse de que 'df' contenga la columna de nota final\n",
    "if final_grade_col not in df.columns:\n",
    "\tdf = data.copy()  # Restaurar el dataframe original\n",
    "\tif final_grade_col not in df.columns:\n",
    "\t\traise KeyError(f\"La columna '{final_grade_col}' no se encuentra en el dataframe.\")\n",
    "\n",
    "df['high_performance'] = df[final_grade_col].apply(lambda x: 1 if x >= threshold else 0)"
   ]
  },
  {
   "cell_type": "code",
   "execution_count": 12,
   "id": "02ae147c",
   "metadata": {},
   "outputs": [],
   "source": [
    "# Eliminar columnas relacionadas con notas\n",
    "df = df.drop(['G1_por', 'G2_por', 'G3_por'], errors='ignore', axis=1)\n",
    "df = df.drop(['G1_mat', 'G2_mat', 'G3_mat'], errors='ignore', axis=1)\n",
    "\n",
    "# Codificar variables categóricas\n",
    "df_encoded = pd.get_dummies(df, drop_first=True)\n",
    "\n",
    "# Features y target\n",
    "X = df_encoded.drop('high_performance', axis=1)\n",
    "y = df_encoded['high_performance']"
   ]
  },
  {
   "cell_type": "markdown",
   "id": "c5f83ad3",
   "metadata": {},
   "source": [
    "# ✅ 4. División train/test"
   ]
  },
  {
   "cell_type": "code",
   "execution_count": 13,
   "id": "d531b2e4",
   "metadata": {},
   "outputs": [],
   "source": [
    "X_train, X_test, y_train, y_test = train_test_split(X, y, test_size=0.2, random_state=42)"
   ]
  },
  {
   "cell_type": "markdown",
   "id": "5b7f3f0b",
   "metadata": {},
   "source": [
    "# ✅ 5. Entrenamiento y evaluación"
   ]
  },
  {
   "cell_type": "code",
   "execution_count": 14,
   "id": "d4290869",
   "metadata": {},
   "outputs": [
    {
     "name": "stdout",
     "output_type": "stream",
     "text": [
      "\n",
      "Entrenando Logistic Regression...\n",
      "Accuracy: 0.75\n",
      "F1-score: 0.667\n",
      "Confusion Matrix:\n",
      "[[10  2]\n",
      " [ 3  5]]\n",
      "\n",
      "Entrenando Random Forest...\n",
      "Accuracy: 0.65\n",
      "F1-score: 0.364\n",
      "Confusion Matrix:\n",
      "[[11  1]\n",
      " [ 6  2]]\n",
      "\n",
      "Entrenando SVM...\n",
      "Accuracy: 0.6\n",
      "F1-score: 0.0\n",
      "Confusion Matrix:\n",
      "[[12  0]\n",
      " [ 8  0]]\n"
     ]
    }
   ],
   "source": [
    "modelos = {\n",
    "    \"Logistic Regression\": LogisticRegression(max_iter=1000),\n",
    "    \"Random Forest\": RandomForestClassifier(n_estimators=100, random_state=42),\n",
    "    \"SVM\": SVC()\n",
    "}\n",
    "\n",
    "mejor_modelo = None\n",
    "mejor_f1 = 0\n",
    "\n",
    "for nombre, modelo in modelos.items():\n",
    "    print(f\"\\nEntrenando {nombre}...\")\n",
    "    modelo.fit(X_train, y_train)\n",
    "    y_pred = modelo.predict(X_test)\n",
    "\n",
    "    acc = accuracy_score(y_test, y_pred)\n",
    "    f1 = f1_score(y_test, y_pred)\n",
    "    cm = confusion_matrix(y_test, y_pred)\n",
    "\n",
    "    print(f\"Accuracy: {round(acc, 3)}\")\n",
    "    print(f\"F1-score: {round(f1, 3)}\")\n",
    "    print(\"Confusion Matrix:\")\n",
    "    print(cm)\n",
    "\n",
    "    if f1 > mejor_f1:\n",
    "        mejor_f1 = f1\n",
    "        mejor_modelo = modelo"
   ]
  },
  {
   "cell_type": "markdown",
   "id": "8fe9884c",
   "metadata": {},
   "source": [
    "# ✅ 6. Guardado del modelo final"
   ]
  },
  {
   "cell_type": "code",
   "execution_count": 15,
   "id": "5fb559fe",
   "metadata": {},
   "outputs": [
    {
     "name": "stdout",
     "output_type": "stream",
     "text": [
      "\n",
      "Modelo final guardado como 'mejor_modelo.pkl'\n"
     ]
    }
   ],
   "source": [
    "with open(\"../models/mejor_modelo.pkl\", \"wb\") as f:\n",
    "    pickle.dump(mejor_modelo, f)\n",
    "\n",
    "print(\"\\nModelo final guardado como 'mejor_modelo.pkl'\")"
   ]
  }
 ],
 "metadata": {
  "kernelspec": {
   "display_name": "Python 3",
   "language": "python",
   "name": "python3"
  },
  "language_info": {
   "codemirror_mode": {
    "name": "ipython",
    "version": 3
   },
   "file_extension": ".py",
   "mimetype": "text/x-python",
   "name": "python",
   "nbconvert_exporter": "python",
   "pygments_lexer": "ipython3",
   "version": "3.12.7"
  }
 },
 "nbformat": 4,
 "nbformat_minor": 5
}
